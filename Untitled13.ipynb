{
  "cells": [
    {
      "cell_type": "markdown",
      "metadata": {
        "id": "view-in-github",
        "colab_type": "text"
      },
      "source": [
        "<a href=\"https://colab.research.google.com/github/DanielFS22/4-o-N-mero/blob/main/Untitled13.ipynb\" target=\"_parent\"><img src=\"https://colab.research.google.com/assets/colab-badge.svg\" alt=\"Open In Colab\"/></a>"
      ]
    },
    {
      "cell_type": "code",
      "source": [],
      "metadata": {
        "id": "eHi7lxZ62kd_"
      },
      "execution_count": null,
      "outputs": []
    },
    {
      "cell_type": "code",
      "source": [
        "import random\n",
        "\n",
        "# Gerando os números para cada coluna do Bingo\n",
        "bingo = {\n",
        "    \"B\": random.sample(range(1, 16), 5),\n",
        "    \"I\": random.sample(range(16, 31), 5),\n",
        "    \"N\": random.sample(range(31, 46), 5),\n",
        "    \"G\": random.sample(range(46, 61), 5),\n",
        "    \"O\": random.sample(range(61, 76), 5),\n",
        "}\n",
        "\n",
        "# Substituindo o centro pelo coringa (FREE)\n",
        "bingo[\"N\"][2] = \"FREE\"\n",
        "\n",
        "# Exibindo a matriz do Bingo\n",
        "print(\" B   I   N   G   O \")\n",
        "for i in range(5):\n",
        "    print(f\"{bingo['B'][i]:<3} {bingo['I'][i]:<3} {bingo['N'][i]:<3} {bingo['G'][i]:<3} {bingo['O'][i]:<3}\")\n"
      ],
      "metadata": {
        "colab": {
          "base_uri": "https://localhost:8080/"
        },
        "id": "xUv-_WJUUcXl",
        "outputId": "ce4a0c9d-4dae-4528-dbff-afa935046c65"
      },
      "execution_count": null,
      "outputs": [
        {
          "output_type": "stream",
          "name": "stdout",
          "text": [
            " B   I   N   G   O \n",
            "4   28  39  56  66 \n",
            "6   27  44  55  65 \n",
            "2   17  FREE 50  70 \n",
            "1   30  45  51  75 \n",
            "8   24  36  60  64 \n"
          ]
        }
      ]
    },
    {
      "cell_type": "code",
      "source": [
        "def potencia(base, expoente):\n",
        "  # caso base: quaisquer número elevado a 0 é 1\n",
        "  if expoente == 0:\n",
        "    return 1\n",
        "  return base * potencia(base, expoente - 1)\n",
        "print(potencia(3, 4)) # Saída esperada: 81\n",
        "print(potencia(2, 6)) # Saída esperada: 64"
      ],
      "metadata": {
        "colab": {
          "base_uri": "https://localhost:8080/"
        },
        "id": "TfeWeqOyX39Q",
        "outputId": "df15876a-251f-4772-859e-1c7939fe955a"
      },
      "execution_count": null,
      "outputs": [
        {
          "output_type": "stream",
          "name": "stdout",
          "text": [
            "81\n",
            "64\n"
          ]
        }
      ]
    },
    {
      "cell_type": "code",
      "source": [
        "def somaMenor"
      ],
      "metadata": {
        "id": "Ij7HSqdAlmgx"
      },
      "execution_count": null,
      "outputs": []
    },
    {
      "cell_type": "code",
      "source": [
        "import numpy as np  # Importação correta da biblioteca\n",
        "\n",
        "# Matriz 3x3\n",
        "i = [[4, 6, 7],\n",
        "     [1, 6, 1],\n",
        "     [1, 3, 5]]\n",
        "\n",
        "# Cálculo do determinante\n",
        "h = np.linalg.det(i)\n",
        "\n",
        "# Verificação da dependência linear\n",
        "if h != 0:\n",
        "    print('A matriz é linearmente independente. Determinante:', h)\n",
        "else:\n",
        "    print('A matriz é linearmente dependente. Determinante:', h)\n"
      ],
      "metadata": {
        "colab": {
          "base_uri": "https://localhost:8080/"
        },
        "id": "IJrBlbiXsmNJ",
        "outputId": "83d4938a-a2a8-4a1b-dd9e-8fc46fe70b18"
      },
      "execution_count": null,
      "outputs": [
        {
          "output_type": "stream",
          "name": "stdout",
          "text": [
            "A matriz é linearmente independente. Determinante: 62.99999999999999\n"
          ]
        }
      ]
    },
    {
      "cell_type": "code",
      "source": [
        "import math\n",
        "\n",
        "def calculadora(n_1, n_2, funcao):\n",
        "    # Verifica se os parâmetros são números\n",
        "    if not (isinstance(n_1, (int, float)) and isinstance(n_2, (int, float))):\n",
        "        raise ValueError(\"Os parâmetros n_1 e n_2 devem ser numéricos.\")\n",
        "\n",
        "    # Verifica a função e realiza a operação correspondente\n",
        "    if funcao == 'divisao':\n",
        "        if n_2 == 0:\n",
        "            raise ValueError(\"Não é possível dividir por 0.\")\n",
        "        return n_1 / n_2\n",
        "\n",
        "    elif funcao == 'raiz quadrada':\n",
        "        if n_1 < 0:\n",
        "            raise ValueError(\"Não existe raiz quadrada de número negativo.\")\n",
        "        return math.sqrt(n_1)\n",
        "\n",
        "    else:\n",
        "        raise ValueError(\"Função inválida. As opções são 'divisao' ou 'raiz quadrada'.\")\n",
        "\n",
        "# Exemplos de uso:\n",
        "try:\n",
        "    print(calculadora(9, 0, 'divisao'))  # Exemplo de erro na divisão\n",
        "except ValueError as e:\n",
        "    print(e)\n",
        "\n",
        "try:\n",
        "    print(calculadora(9, 0, 'raiz quadrada'))  # Exemplo de cálculo da raiz quadrada\n",
        "except ValueError as e:\n",
        "    print(e)\n",
        "\n",
        "try:\n",
        "    print(calculadora(9, 2, 'divisao'))  # Exemplo de divisão válida\n",
        "except ValueError as e:\n",
        "    print(e)\n",
        "\n",
        "try:\n",
        "    print(calculadora(-9, 0, 'raiz quadrada'))  # Exemplo de erro na raiz quadrada de número negativo\n",
        "except ValueError as e:\n",
        "    print(e)\n"
      ],
      "metadata": {
        "colab": {
          "base_uri": "https://localhost:8080/"
        },
        "id": "Xw5QWSgEuJad",
        "outputId": "9b18ee29-65a7-4ddd-8557-bb573d008b83"
      },
      "execution_count": 2,
      "outputs": [
        {
          "output_type": "stream",
          "name": "stdout",
          "text": [
            "Não é possível dividir por 0.\n",
            "3.0\n",
            "4.5\n",
            "Não existe raiz quadrada de número negativo.\n"
          ]
        }
      ]
    },
    {
      "cell_type": "code",
      "source": [
        "def verificar_erros_saldo(clientes):\n",
        "    erros = {}\n",
        "\n",
        "    for cliente, transacoes in clientes.items():\n",
        "        meses = sorted(transacoes.keys())\n",
        "        saldo_calculado = transacoes[meses[0]]['saldo']  # Saldo inicial assumido correto\n",
        "        erro_encontrado = False\n",
        "\n",
        "        for mes in meses[1:]:\n",
        "            saldo_calculado += transacoes[mes]['investiu'] + transacoes[mes]['sacou']\n",
        "            saldo_real = transacoes[mes]['saldo']\n",
        "\n",
        "            if saldo_calculado != saldo_real:\n",
        "                erros[cliente] = mes\n",
        "                erro_encontrado = True\n",
        "                break\n",
        "\n",
        "        if not erro_encontrado:\n",
        "            erros[cliente] = None  # Nenhum erro encontrado\n",
        "\n",
        "    return {k: v for k, v in erros.items() if v is not None}  # Retorna apenas clientes com erro\n",
        "\n",
        "# Exemplo de uso:\n",
        "clientes = {\n",
        "    'Cliente_0': {\n",
        "        1: {'investiu': 5, 'sacou': -99, 'saldo': 127},\n",
        "        2: {'investiu': 37, 'sacou': -36, 'saldo': 105},\n",
        "        3: {'investiu': 78, 'sacou': -48, 'saldo': 140},\n",
        "        4: {'investiu': 12, 'sacou': -61, 'saldo': 94},\n",
        "        5: {'investiu': 53, 'sacou': -65, 'saldo': 98},\n",
        "        6: {'investiu': 2, 'sacou': -64, 'saldo': 105},\n",
        "        7: {'investiu': 13, 'sacou': -17, 'saldo': 61},\n",
        "        8: {'investiu': 39, 'sacou': -57, 'saldo': 89},\n",
        "        9: {'investiu': 58, 'sacou': -85, 'saldo': 100},\n",
        "        10: {'investiu': 37, 'sacou': -9, 'saldo': 23},\n",
        "        11: {'investiu': 80, 'sacou': -34, 'saldo': -28},\n",
        "        12: {'investiu': 90, 'sacou': -70, 'saldo': 11}\n",
        "    },\n",
        "    'Cliente_1': {\n",
        "        1: {'investiu': 30, 'sacou': -58, 'saldo': 516},\n",
        "        2: {'investiu': 58, 'sacou': -16, 'saldo': 558},\n",
        "        3: {'investiu': 72, 'sacou': -52, 'saldo': 578},\n",
        "        4: {'investiu': 73, 'sacou': -38, 'saldo': 613},\n",
        "        5: {'investiu': 39, 'sacou': -56, 'saldo': 596},\n",
        "        6: {'investiu': 68, 'sacou': -5, 'saldo': 659},\n",
        "        7: {'investiu': 11, 'sacou': -96, 'saldo': 574},\n",
        "        8: {'investiu': 9, 'sacou': -39, 'saldo': 544},\n",
        "        9: {'investiu': 27, 'sacou': -64, 'saldo': 507},\n",
        "        10: {'investiu': 72, 'sacou': -14, 'saldo': 565},\n",
        "        11: {'investiu': 22, 'sacou': -75, 'saldo': 512},\n",
        "        12: {'investiu': 56, 'sacou': -88, 'saldo': 480}\n",
        "    }\n",
        "}\n",
        "\n",
        "print(verificar_erros_saldo(clientes))"
      ],
      "metadata": {
        "id": "G9lZwUdRzNBq"
      },
      "execution_count": null,
      "outputs": []
    }
  ],
  "metadata": {
    "colab": {
      "provenance": [],
      "authorship_tag": "ABX9TyMRVdda+ntCae0qlpiO1gio",
      "include_colab_link": true
    },
    "kernelspec": {
      "display_name": "Python 3",
      "name": "python3"
    },
    "language_info": {
      "name": "python"
    }
  },
  "nbformat": 4,
  "nbformat_minor": 0
}